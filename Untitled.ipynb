{
 "cells": [
  {
   "cell_type": "code",
   "execution_count": null,
   "id": "db3d9497-1bb7-423f-8063-0fcc4ca2cf52",
   "metadata": {},
   "outputs": [],
   "source": [
    "def mergesort(arr):\n",
    "    if len(arr)>1:\n",
    "        r=len(arr)//2\n",
    "        L=arr[:r]\n",
    "        M=arr[r:]\n",
    "        mergesort(L)\n",
    "        mergesort(M)\n",
    "        i=j=k=0\n",
    "        while i<len(L) and j<len(M):\n",
    "            arr[k],i,j,k=(L[i],i+1,j,k+1) if L[i]<M[j] else (M[j],i,j+1,k+1)\n",
    "        while i<len(L): arr[k],i,k=L[i],i+1,k+1\n",
    "        while j<len(M): arr[k],j,k=M[j],j+1,k+1\n",
    "\n",
    "def partition(arr,low,high):\n",
    "    pivot=arr[high]\n",
    "    i=low-1\n",
    "    for j in range(low,high):\n",
    "        if arr[j]<=pivot:\n",
    "            i+=1\n",
    "            arr[i],arr[j]=arr[j],arr[i]\n",
    "    arr[i+1],arr[high]=arr[high],arr[i+1]\n",
    "    return i+1\n",
    "\n",
    "def quicksort(arr,low,high):\n",
    "    if low<high:\n",
    "        pi=partition(arr,low,high)\n",
    "        quicksort(arr,low,pi-1)\n",
    "        quicksort(arr,pi+1,high)\n",
    "\n",
    "def selectionsort(arr):\n",
    "    size=len(arr)\n",
    "    for step in range(size):\n",
    "        minidx=step\n",
    "        for i in range(step+1,size):\n",
    "            if arr[i]<arr[minidx]:\n",
    "                minidx=i\n",
    "        arr[step],arr[minidx]=arr[minidx],arr[step]\n",
    "\n",
    "def insertionsort(arr):\n",
    "    for i in range(1,len(arr)):\n",
    "        key,j=arr[i],i-1\n",
    "        while j>=0 and key<arr[j]:\n",
    "            arr[j+1],j=arr[j],j-1\n",
    "        arr[j+1]=key\n",
    "            "
   ]
  }
 ],
 "metadata": {
  "kernelspec": {
   "display_name": "Python 3 (ipykernel)",
   "language": "python",
   "name": "python3"
  },
  "language_info": {
   "codemirror_mode": {
    "name": "ipython",
    "version": 3
   },
   "file_extension": ".py",
   "mimetype": "text/x-python",
   "name": "python",
   "nbconvert_exporter": "python",
   "pygments_lexer": "ipython3",
   "version": "3.9.10"
  }
 },
 "nbformat": 4,
 "nbformat_minor": 5
}
